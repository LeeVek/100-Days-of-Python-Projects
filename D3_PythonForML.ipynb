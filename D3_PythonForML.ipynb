{
  "nbformat": 4,
  "nbformat_minor": 0,
  "metadata": {
    "colab": {
      "provenance": [],
      "gpuType": "T4",
      "authorship_tag": "ABX9TyP/Wv/TV35V84DmuB420les",
      "include_colab_link": true
    },
    "kernelspec": {
      "name": "python3",
      "display_name": "Python 3"
    },
    "language_info": {
      "name": "python"
    },
    "accelerator": "GPU",
    "gpuClass": "standard"
  },
  "cells": [
    {
      "cell_type": "markdown",
      "metadata": {
        "id": "view-in-github",
        "colab_type": "text"
      },
      "source": [
        "<a href=\"https://colab.research.google.com/github/LeeVek/100-Days-of-Python-Projects/blob/main/D3_PythonForML.ipynb\" target=\"_parent\"><img src=\"https://colab.research.google.com/assets/colab-badge.svg\" alt=\"Open In Colab\"/></a>"
      ]
    },
    {
      "cell_type": "markdown",
      "source": [
        " PYTHON BASICS FOR ML ENGINEERS"
      ],
      "metadata": {
        "id": "3wFPtNuHtx_k"
      }
    },
    {
      "cell_type": "code",
      "source": [
        "#strings--annotate\n",
        "data='Hey Lov'#assignment SET TO and not equality#data here is a variable=placeholder+memory\n",
        "print(data[0])\n",
        "print(len(data))\n",
        "print(data)\n",
        "\n",
        "\n"
      ],
      "metadata": {
        "colab": {
          "base_uri": "https://localhost:8080/"
        },
        "id": "uJLQ5qSGur-8",
        "outputId": "4ba55949-50a9-4dcd-f022-aac3ad6a21a1"
      },
      "execution_count": 1,
      "outputs": [
        {
          "output_type": "stream",
          "name": "stdout",
          "text": [
            "H\n",
            "7\n",
            "Hey Lov\n"
          ]
        }
      ]
    },
    {
      "cell_type": "code",
      "source": [
        "#NUmbers\n",
        "value=123.1\n",
        "print(value)\n",
        "value=1\n",
        "print(value)\n",
        "\n",
        "#multiple assignmnets\n",
        "a,b,c=1,2,3\n",
        "print(a,b,c)"
      ],
      "metadata": {
        "colab": {
          "base_uri": "https://localhost:8080/"
        },
        "id": "yhEDXCgRvoYd",
        "outputId": "5d107aa1-c0a4-43c9-bc3c-3fa4f9e5fdc0"
      },
      "execution_count": 2,
      "outputs": [
        {
          "output_type": "stream",
          "name": "stdout",
          "text": [
            "123.1\n",
            "1\n",
            "1 2 3\n"
          ]
        }
      ]
    },
    {
      "cell_type": "code",
      "source": [
        "#3 main Flow Control Statements\n",
        "#If-Then-Else Condition\n",
        "#For Loop\n",
        "#While Loop\n",
        "print('######################')\n",
        "value=99\n",
        "if value==99:\n",
        "  print('fast')\n",
        "elif value>200:\n",
        "  print('too fast')\n",
        "else:\n",
        "  print('safe')\n",
        "print('######################')\n",
        "for i in range(10):# array starts at 0\n",
        "  print(i)\n",
        "print('######################')\n",
        "i=0\n",
        "while i<10:\n",
        "  print(i)\n",
        "  i+=1\n",
        "print('######################')"
      ],
      "metadata": {
        "colab": {
          "base_uri": "https://localhost:8080/"
        },
        "id": "ecLmtL8Q2-Fz",
        "outputId": "b705b797-9e65-4690-bdb5-70240b0ed40c"
      },
      "execution_count": 8,
      "outputs": [
        {
          "output_type": "stream",
          "name": "stdout",
          "text": [
            "######################\n",
            "fast\n",
            "######################\n",
            "0\n",
            "1\n",
            "2\n",
            "3\n",
            "4\n",
            "5\n",
            "6\n",
            "7\n",
            "8\n",
            "9\n",
            "######################\n",
            "0\n",
            "1\n",
            "2\n",
            "3\n",
            "4\n",
            "5\n",
            "6\n",
            "7\n",
            "8\n",
            "9\n",
            "######################\n"
          ]
        }
      ]
    },
    {
      "cell_type": "code",
      "source": [
        "##core python data structure\n",
        "#tuples,list,dictionaries\n",
        "#tuples are read only collections of items\n",
        "print('######################')\n",
        "a=(1,2,3)\n",
        "print(a)\n",
        "print('######################')\n",
        "#list can be indexed using array notation\n",
        "mylist=[1,2,3]\n",
        "print(\"Zeroth value: %d\" % mylist[0])\n",
        "mylist.append(4)\n",
        "print(\"List length: %d\" %len(mylist))\n",
        "for value in mylist:\n",
        "  print(value)\n",
        "print('######################')\n",
        "#dictionaries are mappings of names to values--key pair values\n",
        "mydict={'a':1,'b':2,'c':3}\n",
        "print(\"A value : %d\" % mydict['a'])\n",
        "mydict['a'] = 11\n",
        "print(\"A value : %d\" % mydict['a'])#%d is used for formatting integers (decimal integers)\n",
        "print(\"Keys : %s\" % mydict.keys())#%s is used for formatting strings\n",
        "print(\"Values : %s\" % mydict.values())\n",
        "for key in mydict.keys():\n",
        "  print(mydict[key])\n",
        "print('######################')"
      ],
      "metadata": {
        "colab": {
          "base_uri": "https://localhost:8080/"
        },
        "id": "7cdrRqHNQRwy",
        "outputId": "be886b8c-ba70-469e-ddc6-546385c54998"
      },
      "execution_count": 15,
      "outputs": [
        {
          "output_type": "stream",
          "name": "stdout",
          "text": [
            "######################\n",
            "(1, 2, 3)\n",
            "######################\n",
            "Zeroth value: 1\n",
            "List length: 4\n",
            "1\n",
            "2\n",
            "3\n",
            "4\n",
            "######################\n",
            "A value : 1\n",
            "A value : 11\n",
            "Keys : dict_keys(['a', 'b', 'c'])\n",
            "Values : dict_values([11, 2, 3])\n",
            "11\n",
            "2\n",
            "3\n",
            "######################\n"
          ]
        }
      ]
    },
    {
      "cell_type": "code",
      "source": [
        "#numpy\n",
        "#foundation data structure nad operations for scipy\n",
        "\n"
      ],
      "metadata": {
        "id": "WfSQe50oY6Cn"
      },
      "execution_count": null,
      "outputs": []
    },
    {
      "cell_type": "markdown",
      "source": [
        "**Scipy** is a scientific computing library for Python. It is built on top of **NumPy**, another fundamental library for numerical computing in Python. Scipy provides a wide range of** numerical algorithms and functions** that are essential for scientific and technical computing.\n",
        "\n",
        "**scipy.optimize**: Optimization and root-finding algorithms, including linear programming, **least squares fitting**, and **nonlinear optimization**.\n",
        "\n",
        "**scipy.integrate**: Integration techniques for **ordinary differential equations**, differential-algebraic equations, and **numerical integration** of functions.\n",
        "\n",
        "**scipy.interpolate**: Tools for interpolation, including splines and radial basis functions.\n",
        "\n",
        "**scipy.linalg**: Linear algebra operations and functions, such as** matrix decomposition, eigenvalue problems**, and solving linear systems.\n",
        "\n",
        "**scipy.stats**: Statistical functions and distributions, **hypothesis testing**, and random number generation.\n",
        "\n",
        "**scipy.signa**l: Signal processing functions, including **filtering**, spectral analysis, and signal generation.\n",
        "\n",
        "**scipy.spatial**: Spatial data structures and algorithms for computational geometry, distance calculations, and **nearest neighbor searches**.\n",
        "\n",
        "**scipy.special**: Special functions, such as Bessel functions, gamma functions, and **error functions**."
      ],
      "metadata": {
        "id": "Kd88bj9RZWHo"
      }
    },
    {
      "cell_type": "code",
      "source": [
        "import pandas as pd#bring pandas library with alias pd\n",
        "data=pd.read_csv(\"titanic.csv\")\n",
        "data=data[['Pclass','Sex','Age','Survived']]\n",
        "data.head()\n",
        "data['Sex']=data['Sex'].map({'male':0, 'female':1})\n",
        "data.head()\n",
        "data=data.dropna()\n",
        "x=data.drop('Survived',axis=1)\n",
        "y=data['Survived']\n",
        "from sklearn.model_selection import train_test_split\n",
        "X_train,X_test,y_train,y_test=train_test_split(x,y,random_state=1)\n",
        "from sklearn import tree\n",
        "model=tree.DecisionTreeClassifier(min_samples_split=15)\n",
        "model.fit(X_train,y_train)\n",
        "y_predict=model.predict(X_test)\n",
        "from sklearn.metrics import accuracy_score\n",
        "accuracy_score(y_test,y_predict)\n",
        "\n",
        " "
      ],
      "metadata": {
        "colab": {
          "base_uri": "https://localhost:8080/"
        },
        "id": "TwHAbiOBvoU-",
        "outputId": "34094869-20cf-433e-cd2e-ce27d4bd2c06"
      },
      "execution_count": 6,
      "outputs": [
        {
          "output_type": "execute_result",
          "data": {
            "text/plain": [
              "0.8435754189944135"
            ]
          },
          "metadata": {},
          "execution_count": 6
        }
      ]
    },
    {
      "cell_type": "code",
      "source": [],
      "metadata": {
        "id": "93lDmBZivoTC"
      },
      "execution_count": null,
      "outputs": []
    },
    {
      "cell_type": "code",
      "source": [],
      "metadata": {
        "id": "gARUFd33voQf"
      },
      "execution_count": null,
      "outputs": []
    },
    {
      "cell_type": "code",
      "source": [],
      "metadata": {
        "id": "SUl-aFabvoOk"
      },
      "execution_count": null,
      "outputs": []
    },
    {
      "cell_type": "code",
      "source": [],
      "metadata": {
        "id": "v80zRrHjvoDX"
      },
      "execution_count": null,
      "outputs": []
    }
  ]
}