{
  "nbformat": 4,
  "nbformat_minor": 0,
  "metadata": {
    "colab": {
      "provenance": [],
      "authorship_tag": "ABX9TyPvRGn8yYZEu3h4oFkP1p7N",
      "include_colab_link": true
    },
    "kernelspec": {
      "name": "python3",
      "display_name": "Python 3"
    },
    "language_info": {
      "name": "python"
    }
  },
  "cells": [
    {
      "cell_type": "markdown",
      "metadata": {
        "id": "view-in-github",
        "colab_type": "text"
      },
      "source": [
        "<a href=\"https://colab.research.google.com/github/LeeVek/100-Days-of-Python-Projects/blob/main/D1_PythonBasics.ipynb\" target=\"_parent\"><img src=\"https://colab.research.google.com/assets/colab-badge.svg\" alt=\"Open In Colab\"/></a>"
      ]
    },
    {
      "cell_type": "markdown",
      "source": [
        "QUIZ"
      ],
      "metadata": {
        "id": "EHWqjzQ5ZuHW"
      }
    },
    {
      "cell_type": "code",
      "source": [
        "print(len(\"95637+12\"))\n"
      ],
      "metadata": {
        "colab": {
          "base_uri": "https://localhost:8080/"
        },
        "id": "8HRmkX-zZwtC",
        "outputId": "b398a1a7-1abb-430f-946c-d6f25c80547a"
      },
      "execution_count": null,
      "outputs": [
        {
          "output_type": "stream",
          "name": "stdout",
          "text": [
            "8\n"
          ]
        }
      ]
    },
    {
      "cell_type": "markdown",
      "source": [
        "The code print(len(\"95637+12\")) prints the length of the string \"95637+12\". In Python, len() is a built-in function that returns the number of elements in a sequence, such as a string."
      ],
      "metadata": {
        "id": "V2GNK6gNZ767"
      }
    },
    {
      "cell_type": "code",
      "source": [
        "score = 67\n",
        "if score < 80 and score > 70:\n",
        "    print(\"A\")\n",
        "elif score < 90 or score > 80:\n",
        "    print(\"B\")\n",
        "elif score > 60:\n",
        "    print(\"C\")\n",
        "else:\n",
        "    print(\"D\")"
      ],
      "metadata": {
        "colab": {
          "base_uri": "https://localhost:8080/"
        },
        "id": "dNBkgcjEZwpn",
        "outputId": "a1b1aa2f-99d8-4878-a612-af9aa3622075"
      },
      "execution_count": null,
      "outputs": [
        {
          "output_type": "stream",
          "name": "stdout",
          "text": [
            "B\n"
          ]
        }
      ]
    },
    {
      "cell_type": "markdown",
      "source": [
        "Here's how the code works:\n",
        "\n",
        "The variable score is initialized with the value 67.\n",
        "The first condition checks whether score is less than 80 AND greater than 70. Since score is not greater than 70, this condition evaluates to False.\n",
        "The second condition checks whether score is less than 90 OR greater than 80. Since score is less than 90, this condition evaluates to True.\n",
        "The first elif statement is satisfied, and the string \"B\" is printed to the console. The elif statement below it is skipped, as it only executes if the previous conditions were not met.\n",
        "The program exits.\n",
        "Therefore, the output will be \"B\"."
      ],
      "metadata": {
        "id": "Rlg0O3tPaEyu"
      }
    },
    {
      "cell_type": "code",
      "source": [
        "def a_function(a_parameter):    \n",
        "    a_variable = 15    \n",
        "    return a_parameter \n",
        "a_function(10)\n",
        "print(a_variable)"
      ],
      "metadata": {
        "colab": {
          "base_uri": "https://localhost:8080/",
          "height": 200
        },
        "id": "GaGq4bV6Zwnq",
        "outputId": "3698c07b-e120-4463-b212-22ecc0f21a1e"
      },
      "execution_count": null,
      "outputs": [
        {
          "output_type": "error",
          "ename": "NameError",
          "evalue": "ignored",
          "traceback": [
            "\u001b[0;31m---------------------------------------------------------------------------\u001b[0m",
            "\u001b[0;31mNameError\u001b[0m                                 Traceback (most recent call last)",
            "\u001b[0;32m<ipython-input-3-597db88c641d>\u001b[0m in \u001b[0;36m<module>\u001b[0;34m\u001b[0m\n\u001b[1;32m      3\u001b[0m     \u001b[0;32mreturn\u001b[0m \u001b[0ma_parameter\u001b[0m\u001b[0;34m\u001b[0m\u001b[0;34m\u001b[0m\u001b[0m\n\u001b[1;32m      4\u001b[0m \u001b[0ma_function\u001b[0m\u001b[0;34m(\u001b[0m\u001b[0;36m10\u001b[0m\u001b[0;34m)\u001b[0m\u001b[0;34m\u001b[0m\u001b[0;34m\u001b[0m\u001b[0m\n\u001b[0;32m----> 5\u001b[0;31m \u001b[0mprint\u001b[0m\u001b[0;34m(\u001b[0m\u001b[0ma_variable\u001b[0m\u001b[0;34m)\u001b[0m\u001b[0;34m\u001b[0m\u001b[0;34m\u001b[0m\u001b[0m\n\u001b[0m",
            "\u001b[0;31mNameError\u001b[0m: name 'a_variable' is not defined"
          ]
        }
      ]
    },
    {
      "cell_type": "markdown",
      "source": [
        "This code will result in an error because a_variable is defined within the scope of the a_function function and is not accessible outside of it.\n",
        "\n",
        "When the function is called with the argument 10, the value of a_parameter is set to 10 and the variable a_variable is set to 15. However, when the print() statement tries to access a_variable outside of the function, it will raise a NameError because a_variable is not defined in the current scope."
      ],
      "metadata": {
        "id": "faHLNgzjaGgg"
      }
    },
    {
      "cell_type": "code",
      "source": [
        "def a_function(a_parameter):    \n",
        "    a_variable = 15    \n",
        "    return a_parameter, a_variable \n",
        "\n",
        "result, a_variable = a_function(10)\n",
        "print(a_variable)\n"
      ],
      "metadata": {
        "colab": {
          "base_uri": "https://localhost:8080/"
        },
        "id": "F-CjPXRVZwlR",
        "outputId": "e8365ef4-6cb6-4e95-97dd-f79c4cca9cf7"
      },
      "execution_count": null,
      "outputs": [
        {
          "output_type": "stream",
          "name": "stdout",
          "text": [
            "15\n"
          ]
        }
      ]
    },
    {
      "cell_type": "markdown",
      "source": [
        "This code defines a function called a_function that takes a single parameter a_parameter. Inside the function, a new variable a_variable is defined and assigned the value 15. Finally, the function returns a tuple containing both a_parameter and a_variable.\n",
        "\n",
        "When the function is called with the argument 10, it returns a tuple (10, 15). This tuple is then unpacked into two variables result and a_variable using tuple unpacking syntax. The value 10 is assigned to result, and the value 15 is assigned to a_variable.\n",
        "\n",
        "Finally, the value of a_variable is printed to the console using the print() function. Since a_variable was assigned the value 15 within the function, the output will be 15.\n",
        "\n",
        "So when you run this code, it defines a function that creates a tuple containing two values - a_parameter and a_variable - and then unpacks the tuple into two separate variables. It then prints the value of a_variable to the console.\n",
        "\n",
        "\n",
        "\n"
      ],
      "metadata": {
        "id": "BSiKvPfqaJdb"
      }
    },
    {
      "cell_type": "code",
      "source": [
        "def outer_function(a, b):\n",
        "    def inner_function(c, d):\n",
        "        return c + d\n",
        "    return inner_function(a, b)\n",
        " \n",
        "result = outer_function(5, 10)\n",
        "print(result)"
      ],
      "metadata": {
        "colab": {
          "base_uri": "https://localhost:8080/"
        },
        "id": "D2pxTgsGZwjG",
        "outputId": "6256d274-d504-4c35-958c-a6dff7029050"
      },
      "execution_count": null,
      "outputs": [
        {
          "output_type": "stream",
          "name": "stdout",
          "text": [
            "15\n"
          ]
        }
      ]
    },
    {
      "cell_type": "markdown",
      "source": [
        "The outer_function takes two arguments, a and b.\n",
        "\n",
        "The inner_function is defined inside the outer_function.\n",
        "\n",
        "The inner_function takes two arguments, c and d, and returns their sum.\n",
        "\n",
        "The outer_function returns the result of calling inner_function with a and b as arguments.\n",
        "\n",
        "The outer_function is called with arguments 5 and 10.\n",
        "\n",
        "The inner_function is called with arguments 5 and 10.\n",
        "\n",
        "The result of calling inner_function with arguments 5 and 10 (i.e., 15) is returned by outer_function.\n",
        "\n",
        "The value of result is set to 15.\n",
        "\n",
        "The value of result is printed to the console.\n",
        "\n",
        "\n",
        "\n"
      ],
      "metadata": {
        "id": "600C08V9ascn"
      }
    },
    {
      "cell_type": "markdown",
      "source": [
        "Given a Car Class has the following attributes and methods, which line of code in the answers will produce an error?\n",
        "\n",
        "Attributes:\n",
        "\n",
        "num_of_seats\n",
        "\n",
        "speed\n",
        "\n",
        "Methods:\n",
        "\n",
        "drive()\n",
        "\n",
        "break(). \n",
        "\n",
        "\n",
        " car.drive(),\n",
        " car.num_of_seats=2,\n",
        " car.break=0,\n",
        " print(car.speed)"
      ],
      "metadata": {
        "id": "WjqhPpH6bvW5"
      }
    },
    {
      "cell_type": "markdown",
      "source": [
        "break is a reserved keyword in Python, so the line car.break = 0 will produce a syntax error. You cannot use reserved keywords as attribute names.\n",
        "\n",
        "The correct method name is brake(), not break(). Therefore, the line car.break() will produce an AttributeError because car does not have a method called break()."
      ],
      "metadata": {
        "id": "0bqKXJN6brIo"
      }
    },
    {
      "cell_type": "code",
      "source": [
        "#Here's the corrected code with the error fixed:\n",
        "car = Car()\n",
        "car.drive()\n",
        "car.num_of_seats = 2\n",
        "car.brake()\n",
        "print(car.speed)\n"
      ],
      "metadata": {
        "id": "8zUrAu9Mb4Lw"
      },
      "execution_count": null,
      "outputs": []
    },
    {
      "cell_type": "code",
      "source": [
        "#Car is a class that represents a car.\n",
        "class Car:\n",
        "    # Class attribute\n",
        "    num_wheels = 4\n",
        "\n",
        "    # Constructor\n",
        "    def __init__(self, color, make, model):\n",
        "        # Instance attributes\n",
        "        self.color = color\n",
        "        self.make = make\n",
        "        self.model = model\n",
        "        self.speed = 0\n",
        "\n",
        "    # Method\n",
        "    def accelerate(self, amount):\n",
        "        self.speed += amount\n",
        "\n",
        "    # Property\n",
        "    @property\n",
        "    def description(self):\n",
        "        return f\"{self.color} {self.make} {self.model}\"\n",
        "\n",
        "# Create an object of the Car class\n",
        "my_car = Car(\"red\", \"Ford\", \"Mustang\")\n",
        "\n",
        "# Access attributes using dot notation\n",
        "print(my_car.color)    # Output: \"red\"\n",
        "print(my_car.num_wheels)  # Output: 4\n",
        "\n",
        "# Call a method on the object\n",
        "my_car.accelerate(50)\n",
        "print(my_car.speed)    # Output: 50\n",
        "\n",
        "# Access a property\n",
        "print(my_car.description)  # Output: \"red Ford Mustang\"\n"
      ],
      "metadata": {
        "id": "FsIzKSKccBth"
      },
      "execution_count": null,
      "outputs": []
    },
    {
      "cell_type": "markdown",
      "source": [
        "In this example, Car is a **class** that represents a car. \n",
        "\n",
        "It has **attributes** such as color, make, model, and num_wheels, as well as a **method** accelerate() and a property description.\n",
        "\n",
        " my_car is an **object** created from the Car class with the **attributes** \"red\", \"Ford\", and \"Mustang\".\n",
        " \n",
        "  We can access the attributes using dot notation,\n",
        "  \n",
        "   call the accelerate() method to modify the object's speed attribute,\n",
        "   \n",
        "   and access the description **property** to get a string describing the car.\n",
        "\n",
        "\n",
        "\n"
      ],
      "metadata": {
        "id": "V8PWjaQDcsH_"
      }
    },
    {
      "cell_type": "markdown",
      "source": [
        "In object-oriented programming, these are the basic concepts:\n",
        "\n",
        "\n",
        "**Class**: A class is a blueprint or template for creating objects. It defines a set of attributes and methods that the objects created from it will have. A class is like a blueprint for a house, which describes the characteristics of the house but does not actually build the house.\n",
        "\n",
        "\n",
        "**Attribute**: An attribute is a piece of data that belongs to an object. It can be thought of as a variable that is stored within the object. Attributes can be accessed and modified using dot notation. For example, a car object may have attributes such as color, make, and model.\n",
        "\n",
        "\n",
        "**Object**: An object is an instance of a class. It is created from the blueprint defined by the class and has its own set of attributes and methods. An object can be thought of as a specific instance of a house built from the blueprint.\n",
        "\n",
        "\n",
        "**Property**: A property is a special kind of attribute that has getter and/or setter methods associated with it. These methods can be used to control access to the attribute and perform additional logic when the attribute is read or modified. Properties can be used to make attributes read-only, write-only, or to validate input before setting the attribute value.\n",
        "\n",
        "\n",
        "**Method**: A method is a function that is defined inside a class and can be called on an object of that class. Methods can access and modify the attributes of the object they are called on. For example, a car object may have methods such as start_engine() and stop_engine()."
      ],
      "metadata": {
        "id": "FW5iZgM5dUDM"
      }
    },
    {
      "cell_type": "code",
      "source": [
        "#What is the output of this code?\n",
        "\n",
        "\n",
        "\n",
        "def foo(a, b=4, c=6):\n",
        "    print(a, b, c)\n",
        " \n",
        "foo(20, c=12)\n"
      ],
      "metadata": {
        "colab": {
          "base_uri": "https://localhost:8080/"
        },
        "id": "JOJAg322dY7V",
        "outputId": "f37876f7-276d-495e-a519-06bb927dbe32"
      },
      "execution_count": null,
      "outputs": [
        {
          "output_type": "stream",
          "name": "stdout",
          "text": [
            "20 4 12\n"
          ]
        }
      ]
    },
    {
      "cell_type": "markdown",
      "source": [
        "When we call print(a, b, c) inside the foo() function, the three **arguments are separated by a space character.** Therefore, the output of the function call foo(20, c=12) is 20 4 12, where the values 20, 4, and 12 are separated by spaces."
      ],
      "metadata": {
        "id": "fxCuzY0zgzHC"
      }
    },
    {
      "cell_type": "code",
      "source": [
        "def all_aboard(a, *args, **kw): \n",
        "    print(a, args, kw)\n",
        " \n",
        "all_aboard(4, 7, 3, 0, x=10, y=64)\n",
        "\n",
        "\n",
        "#What is the output of the code above? "
      ],
      "metadata": {
        "colab": {
          "base_uri": "https://localhost:8080/"
        },
        "id": "7RgElk2jg1qZ",
        "outputId": "e3deb79c-4e03-451a-fd72-ce70a76a4063"
      },
      "execution_count": null,
      "outputs": [
        {
          "output_type": "stream",
          "name": "stdout",
          "text": [
            "4 (7, 3, 0) {'x': 10, 'y': 64}\n"
          ]
        }
      ]
    },
    {
      "cell_type": "markdown",
      "source": [
        "The function all_aboard() takes **a mandatory parameter **a, followed by **any number of positional arguments** (*args) and** any number of keyword arguments** (**kw).\n",
        "\n",
        "\n",
        "\n",
        "In the function call all_aboard(4, 7, 3, 0, x=10, y=64), we pass the arguments 4, 7, 3, and 0 for a and *args, respectively, and x=10 and y=64 for **kw.\n",
        "\n",
        "\n",
        "Therefore, when the function is executed, the values of the parameters are printed using the print() function, resulting in the output 4 (7, 3, 0) {'x': 10, 'y': 64}.\n",
        "\n",
        "Here, the value of the mandatory parameter a is 4, the value of *args  is a ***tuple*** containing the values (7, 3, 0), and the value of **kw is a **dictionary** containing the key-value pairs {'x': 10, 'y': 64}."
      ],
      "metadata": {
        "id": "0rfQz8GwhZfA"
      }
    },
    {
      "cell_type": "code",
      "source": [
        "print('Hello World!\\n Hello World')"
      ],
      "metadata": {
        "colab": {
          "base_uri": "https://localhost:8080/"
        },
        "id": "ANdiuELph1uX",
        "outputId": "e276e97f-98ef-424d-a5ad-77f4663c8c59"
      },
      "execution_count": null,
      "outputs": [
        {
          "output_type": "stream",
          "name": "stdout",
          "text": [
            "Hello World!\n",
            " Hello World\n"
          ]
        }
      ]
    },
    {
      "cell_type": "code",
      "source": [
        "print('hello ' + input('what name?'))"
      ],
      "metadata": {
        "colab": {
          "base_uri": "https://localhost:8080/"
        },
        "id": "_2J3nPRmExAF",
        "outputId": "fbb548fe-4520-4037-af0e-63ae98320abb"
      },
      "execution_count": null,
      "outputs": [
        {
          "output_type": "stream",
          "name": "stdout",
          "text": [
            "what name?lov\n",
            "hello lov\n"
          ]
        }
      ]
    },
    {
      "cell_type": "code",
      "source": [
        "print(\"Day 1 - String Manipulation\")\n",
        "print('String Concatenation is done with the \"+\" sign.')\n",
        "print('e.g. print(\"Hello \" + \"world\")')\n",
        "print(\"New lines can be created with a backslash and n.\")\n"
      ],
      "metadata": {
        "colab": {
          "base_uri": "https://localhost:8080/"
        },
        "id": "d-Dw_SrEE2tl",
        "outputId": "a8dd8847-058a-4207-bd8e-fef76f9d7963"
      },
      "execution_count": null,
      "outputs": [
        {
          "output_type": "stream",
          "name": "stdout",
          "text": [
            "Day 1 - String Manipulation\n",
            "String Concatenation is done with the \"+\" sign.\n",
            "e.g. print(\"Hello \" + \"world\")\n",
            "New lines can be created with a backslash and n.\n"
          ]
        }
      ]
    },
    {
      "cell_type": "code",
      "source": [
        "# 🚨 Don't change the code below 👇\n",
        "two_digit_number = input(\"Type a two digit number: \")\n",
        "# 🚨 Don't change the code above 👆\n",
        "\n",
        "####################################\n",
        "#Write your code below this line 👇\n",
        "a1=split(two_digit_number)"
      ],
      "metadata": {
        "id": "ai9bD4_SE2qt"
      },
      "execution_count": null,
      "outputs": []
    },
    {
      "cell_type": "code",
      "source": [
        "print(str(70)+str(800))"
      ],
      "metadata": {
        "colab": {
          "base_uri": "https://localhost:8080/"
        },
        "id": "44LoXewxGXCs",
        "outputId": "43905052-fc7e-488d-9317-2298a611b6bd"
      },
      "execution_count": null,
      "outputs": [
        {
          "output_type": "stream",
          "name": "stdout",
          "text": [
            "70800\n"
          ]
        }
      ]
    },
    {
      "cell_type": "code",
      "source": [
        "a=70\n",
        "print(type(a))"
      ],
      "metadata": {
        "colab": {
          "base_uri": "https://localhost:8080/"
        },
        "id": "Gcd5sC0_GW-c",
        "outputId": "89c7c43c-bbad-4235-ae03-8f4b8fb2b6e9"
      },
      "execution_count": null,
      "outputs": [
        {
          "output_type": "stream",
          "name": "stdout",
          "text": [
            "<class 'int'>\n"
          ]
        }
      ]
    },
    {
      "cell_type": "code",
      "source": [
        "print(6/3)#gives float"
      ],
      "metadata": {
        "colab": {
          "base_uri": "https://localhost:8080/"
        },
        "id": "ItE1hleVGW8N",
        "outputId": "47984473-f273-4222-f585-991e707d9f65"
      },
      "execution_count": null,
      "outputs": [
        {
          "output_type": "stream",
          "name": "stdout",
          "text": [
            "2.0\n"
          ]
        }
      ]
    },
    {
      "cell_type": "markdown",
      "source": [
        "**PEDMAS RULE**\n",
        "\n",
        "()\n",
        "\n",
        "**\n",
        "\n",
        "*\n",
        "\n",
        "/\n",
        "\n",
        "+\n",
        "\n",
        "-\n",
        "\n"
      ],
      "metadata": {
        "id": "VLztcxO8G9xD"
      }
    },
    {
      "cell_type": "code",
      "source": [
        "print(round(8/3))"
      ],
      "metadata": {
        "colab": {
          "base_uri": "https://localhost:8080/"
        },
        "id": "hcSQHBMoG8JD",
        "outputId": "06181c16-81a0-4a1f-8222-4d840c4a68cb"
      },
      "execution_count": null,
      "outputs": [
        {
          "output_type": "stream",
          "name": "stdout",
          "text": [
            "3\n"
          ]
        }
      ]
    },
    {
      "cell_type": "code",
      "source": [
        "print(round(8/3,2))"
      ],
      "metadata": {
        "colab": {
          "base_uri": "https://localhost:8080/"
        },
        "id": "kkVYJNN1GW5b",
        "outputId": "be44bcaa-c296-4ca5-9377-f9d6ae4749a7"
      },
      "execution_count": null,
      "outputs": [
        {
          "output_type": "stream",
          "name": "stdout",
          "text": [
            "2.67\n"
          ]
        }
      ]
    },
    {
      "cell_type": "code",
      "source": [
        "print(8//3)#floor division"
      ],
      "metadata": {
        "colab": {
          "base_uri": "https://localhost:8080/"
        },
        "id": "xOjv4zQQIjOY",
        "outputId": "36c66557-88ba-4871-940c-2856872e9441"
      },
      "execution_count": null,
      "outputs": [
        {
          "output_type": "stream",
          "name": "stdout",
          "text": [
            "2\n"
          ]
        }
      ]
    },
    {
      "cell_type": "code",
      "source": [
        "print(type(8//3))"
      ],
      "metadata": {
        "colab": {
          "base_uri": "https://localhost:8080/"
        },
        "id": "T44UvJocIw_x",
        "outputId": "845062f1-629d-4fe6-c11a-6d47f9665ada"
      },
      "execution_count": null,
      "outputs": [
        {
          "output_type": "stream",
          "name": "stdout",
          "text": [
            "<class 'int'>\n"
          ]
        }
      ]
    },
    {
      "cell_type": "code",
      "source": [
        "print(type(8/3))"
      ],
      "metadata": {
        "colab": {
          "base_uri": "https://localhost:8080/"
        },
        "id": "l_Scsi1hI02g",
        "outputId": "099e21b7-72a6-46c9-e093-7ad2459f14fd"
      },
      "execution_count": null,
      "outputs": [
        {
          "output_type": "stream",
          "name": "stdout",
          "text": [
            "<class 'float'>\n"
          ]
        }
      ]
    },
    {
      "cell_type": "code",
      "source": [
        "12*25\n"
      ],
      "metadata": {
        "colab": {
          "base_uri": "https://localhost:8080/"
        },
        "id": "ykQeJZfkh4jS",
        "outputId": "757d451b-f720-45a9-dfa6-bb794e964506"
      },
      "execution_count": null,
      "outputs": [
        {
          "output_type": "execute_result",
          "data": {
            "text/plain": [
              "300"
            ]
          },
          "metadata": {},
          "execution_count": 10
        }
      ]
    }
  ]
}